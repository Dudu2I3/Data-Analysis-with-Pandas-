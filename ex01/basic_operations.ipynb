{
 "cells": [
  {
   "cell_type": "markdown",
   "metadata": {},
   "source": [
    "## Импорт библиотеки"
   ]
  },
  {
   "cell_type": "code",
   "execution_count": 100,
   "metadata": {},
   "outputs": [],
   "source": [
    "import pandas as pd"
   ]
  },
  {
   "cell_type": "markdown",
   "metadata": {},
   "source": [
    "## Читаем файл и создать датафрейм"
   ]
  },
  {
   "cell_type": "code",
   "execution_count": 104,
   "metadata": {},
   "outputs": [],
   "source": [
    "views = pd.read_csv(\"../data/feed-views.log\",\n",
    "            names=[\"datetime\", \"user\"],\n",
    "            sep='\\t')"
   ]
  },
  {
   "cell_type": "markdown",
   "metadata": {},
   "source": [
    "## Преобразовываем столбец datetime в тип datetime64[ns]"
   ]
  },
  {
   "cell_type": "code",
   "execution_count": 105,
   "metadata": {},
   "outputs": [
    {
     "name": "stdout",
     "output_type": "stream",
     "text": [
      "<class 'pandas.core.frame.DataFrame'>\n",
      "RangeIndex: 1076 entries, 0 to 1075\n",
      "Data columns (total 2 columns):\n",
      " #   Column    Non-Null Count  Dtype         \n",
      "---  ------    --------------  -----         \n",
      " 0   datetime  1076 non-null   datetime64[ns]\n",
      " 1   user      1076 non-null   object        \n",
      "dtypes: datetime64[ns](1), object(1)\n",
      "memory usage: 16.9+ KB\n"
     ]
    }
   ],
   "source": [
    "views[\"datetime\"] = pd.to_datetime(views[\"datetime\"])\n",
    "views.info()"
   ]
  },
  {
   "cell_type": "markdown",
   "metadata": {},
   "source": [
    "## Добавление новых столбцов "
   ]
  },
  {
   "cell_type": "code",
   "execution_count": 106,
   "metadata": {},
   "outputs": [
    {
     "data": {
      "text/html": [
       "<div>\n",
       "<style scoped>\n",
       "    .dataframe tbody tr th:only-of-type {\n",
       "        vertical-align: middle;\n",
       "    }\n",
       "\n",
       "    .dataframe tbody tr th {\n",
       "        vertical-align: top;\n",
       "    }\n",
       "\n",
       "    .dataframe thead th {\n",
       "        text-align: right;\n",
       "    }\n",
       "</style>\n",
       "<table border=\"1\" class=\"dataframe\">\n",
       "  <thead>\n",
       "    <tr style=\"text-align: right;\">\n",
       "      <th></th>\n",
       "      <th>datetime</th>\n",
       "      <th>user</th>\n",
       "      <th>years</th>\n",
       "      <th>months</th>\n",
       "      <th>days</th>\n",
       "      <th>hours</th>\n",
       "      <th>minutes</th>\n",
       "      <th>seconds</th>\n",
       "    </tr>\n",
       "  </thead>\n",
       "  <tbody>\n",
       "    <tr>\n",
       "      <th>0</th>\n",
       "      <td>2020-04-17 12:01:08.463179</td>\n",
       "      <td>artem</td>\n",
       "      <td>2020</td>\n",
       "      <td>4</td>\n",
       "      <td>17</td>\n",
       "      <td>12</td>\n",
       "      <td>1</td>\n",
       "      <td>8</td>\n",
       "    </tr>\n",
       "    <tr>\n",
       "      <th>1</th>\n",
       "      <td>2020-04-17 12:01:23.743946</td>\n",
       "      <td>artem</td>\n",
       "      <td>2020</td>\n",
       "      <td>4</td>\n",
       "      <td>17</td>\n",
       "      <td>12</td>\n",
       "      <td>1</td>\n",
       "      <td>23</td>\n",
       "    </tr>\n",
       "    <tr>\n",
       "      <th>2</th>\n",
       "      <td>2020-04-17 12:27:30.646665</td>\n",
       "      <td>artem</td>\n",
       "      <td>2020</td>\n",
       "      <td>4</td>\n",
       "      <td>17</td>\n",
       "      <td>12</td>\n",
       "      <td>27</td>\n",
       "      <td>30</td>\n",
       "    </tr>\n",
       "    <tr>\n",
       "      <th>3</th>\n",
       "      <td>2020-04-17 12:35:44.884757</td>\n",
       "      <td>artem</td>\n",
       "      <td>2020</td>\n",
       "      <td>4</td>\n",
       "      <td>17</td>\n",
       "      <td>12</td>\n",
       "      <td>35</td>\n",
       "      <td>44</td>\n",
       "    </tr>\n",
       "    <tr>\n",
       "      <th>4</th>\n",
       "      <td>2020-04-17 12:35:52.735016</td>\n",
       "      <td>artem</td>\n",
       "      <td>2020</td>\n",
       "      <td>4</td>\n",
       "      <td>17</td>\n",
       "      <td>12</td>\n",
       "      <td>35</td>\n",
       "      <td>52</td>\n",
       "    </tr>\n",
       "    <tr>\n",
       "      <th>...</th>\n",
       "      <td>...</td>\n",
       "      <td>...</td>\n",
       "      <td>...</td>\n",
       "      <td>...</td>\n",
       "      <td>...</td>\n",
       "      <td>...</td>\n",
       "      <td>...</td>\n",
       "      <td>...</td>\n",
       "    </tr>\n",
       "    <tr>\n",
       "      <th>1071</th>\n",
       "      <td>2020-05-21 18:45:20.441142</td>\n",
       "      <td>valentina</td>\n",
       "      <td>2020</td>\n",
       "      <td>5</td>\n",
       "      <td>21</td>\n",
       "      <td>18</td>\n",
       "      <td>45</td>\n",
       "      <td>20</td>\n",
       "    </tr>\n",
       "    <tr>\n",
       "      <th>1072</th>\n",
       "      <td>2020-05-21 23:03:06.457819</td>\n",
       "      <td>maxim</td>\n",
       "      <td>2020</td>\n",
       "      <td>5</td>\n",
       "      <td>21</td>\n",
       "      <td>23</td>\n",
       "      <td>3</td>\n",
       "      <td>6</td>\n",
       "    </tr>\n",
       "    <tr>\n",
       "      <th>1073</th>\n",
       "      <td>2020-05-21 23:23:49.995349</td>\n",
       "      <td>pavel</td>\n",
       "      <td>2020</td>\n",
       "      <td>5</td>\n",
       "      <td>21</td>\n",
       "      <td>23</td>\n",
       "      <td>23</td>\n",
       "      <td>49</td>\n",
       "    </tr>\n",
       "    <tr>\n",
       "      <th>1074</th>\n",
       "      <td>2020-05-21 23:49:22.386789</td>\n",
       "      <td>artem</td>\n",
       "      <td>2020</td>\n",
       "      <td>5</td>\n",
       "      <td>21</td>\n",
       "      <td>23</td>\n",
       "      <td>49</td>\n",
       "      <td>22</td>\n",
       "    </tr>\n",
       "    <tr>\n",
       "      <th>1075</th>\n",
       "      <td>2020-05-22 10:36:14.662600</td>\n",
       "      <td>artem</td>\n",
       "      <td>2020</td>\n",
       "      <td>5</td>\n",
       "      <td>22</td>\n",
       "      <td>10</td>\n",
       "      <td>36</td>\n",
       "      <td>14</td>\n",
       "    </tr>\n",
       "  </tbody>\n",
       "</table>\n",
       "<p>1076 rows × 8 columns</p>\n",
       "</div>"
      ],
      "text/plain": [
       "                       datetime       user  years  months  days  hours  \\\n",
       "0    2020-04-17 12:01:08.463179      artem   2020       4    17     12   \n",
       "1    2020-04-17 12:01:23.743946      artem   2020       4    17     12   \n",
       "2    2020-04-17 12:27:30.646665      artem   2020       4    17     12   \n",
       "3    2020-04-17 12:35:44.884757      artem   2020       4    17     12   \n",
       "4    2020-04-17 12:35:52.735016      artem   2020       4    17     12   \n",
       "...                         ...        ...    ...     ...   ...    ...   \n",
       "1071 2020-05-21 18:45:20.441142  valentina   2020       5    21     18   \n",
       "1072 2020-05-21 23:03:06.457819      maxim   2020       5    21     23   \n",
       "1073 2020-05-21 23:23:49.995349      pavel   2020       5    21     23   \n",
       "1074 2020-05-21 23:49:22.386789      artem   2020       5    21     23   \n",
       "1075 2020-05-22 10:36:14.662600      artem   2020       5    22     10   \n",
       "\n",
       "      minutes  seconds  \n",
       "0           1        8  \n",
       "1           1       23  \n",
       "2          27       30  \n",
       "3          35       44  \n",
       "4          35       52  \n",
       "...       ...      ...  \n",
       "1071       45       20  \n",
       "1072        3        6  \n",
       "1073       23       49  \n",
       "1074       49       22  \n",
       "1075       36       14  \n",
       "\n",
       "[1076 rows x 8 columns]"
      ]
     },
     "execution_count": 106,
     "metadata": {},
     "output_type": "execute_result"
    }
   ],
   "source": [
    "views[\"years\"] = views[\"datetime\"].dt.year\n",
    "views[\"months\"] = views[\"datetime\"].dt.month\n",
    "views[\"days\"] = views[\"datetime\"].dt.day\n",
    "views[\"hours\"] = views[\"datetime\"].dt.hour\n",
    "views[\"minutes\"] = views[\"datetime\"].dt.minute\n",
    "views[\"seconds\"] = views[\"datetime\"].dt.second\n",
    "views\n",
    "\n"
   ]
  },
  {
   "cell_type": "markdown",
   "metadata": {},
   "source": [
    "## Создаем столбец daytime"
   ]
  },
  {
   "cell_type": "code",
   "execution_count": 107,
   "metadata": {},
   "outputs": [
    {
     "name": "stdout",
     "output_type": "stream",
     "text": [
      "user\n",
      "artem            afternoon\n",
      "artem            afternoon\n",
      "artem            afternoon\n",
      "artem            afternoon\n",
      "artem            afternoon\n",
      "                 ...      \n",
      "valentina    early evening\n",
      "maxim              evening\n",
      "pavel              evening\n",
      "artem              evening\n",
      "artem              morning\n",
      "Name: daytime, Length: 1076, dtype: category\n",
      "Categories (6, object): ['night' < 'early morning' < 'morning' < 'afternoon' < 'early evening' < 'evening']\n"
     ]
    }
   ],
   "source": [
    "\n",
    "bins = [0, 4, 7, 11, 17, 20, 24]\n",
    "labels = [\"night\", \"early morning\", \"morning\", \"afternoon\", \"early evening\", \"evening\"]\n",
    "\n",
    "views[\"daytime\"] = pd.cut(views[\"hours\"], bins=bins, labels=labels, right=False)\n",
    "views = views.set_index(\"user\")\n",
    "print(views['daytime'])\n",
    "\n"
   ]
  },
  {
   "cell_type": "markdown",
   "metadata": {},
   "source": [
    "## Кол-во элементов в датафрейме"
   ]
  },
  {
   "cell_type": "code",
   "execution_count": 108,
   "metadata": {},
   "outputs": [
    {
     "data": {
      "text/plain": [
       "datetime    1076\n",
       "years       1076\n",
       "months      1076\n",
       "days        1076\n",
       "hours       1076\n",
       "minutes     1076\n",
       "seconds     1076\n",
       "daytime     1076\n",
       "dtype: int64"
      ]
     },
     "execution_count": 108,
     "metadata": {},
     "output_type": "execute_result"
    }
   ],
   "source": [
    "views.count()"
   ]
  },
  {
   "cell_type": "markdown",
   "metadata": {},
   "source": [
    "## Кол-во записей по времени суток"
   ]
  },
  {
   "cell_type": "code",
   "execution_count": 109,
   "metadata": {},
   "outputs": [
    {
     "name": "stdout",
     "output_type": "stream",
     "text": [
      "daytime\n",
      "evening          509\n",
      "afternoon        252\n",
      "early evening    145\n",
      "night            129\n",
      "morning           36\n",
      "early morning      5\n",
      "Name: daytime, dtype: int64\n"
     ]
    }
   ],
   "source": [
    "daytime_counts = views[\"daytime\"].value_counts()\n",
    "daytime_counts.name = \"daytime\"\n",
    "print(daytime_counts)"
   ]
  },
  {
   "cell_type": "markdown",
   "metadata": {},
   "source": [
    "## Сортировка по часам, минутам, секундам одновременно"
   ]
  },
  {
   "cell_type": "code",
   "execution_count": 110,
   "metadata": {},
   "outputs": [
    {
     "data": {
      "text/html": [
       "<div>\n",
       "<style scoped>\n",
       "    .dataframe tbody tr th:only-of-type {\n",
       "        vertical-align: middle;\n",
       "    }\n",
       "\n",
       "    .dataframe tbody tr th {\n",
       "        vertical-align: top;\n",
       "    }\n",
       "\n",
       "    .dataframe thead th {\n",
       "        text-align: right;\n",
       "    }\n",
       "</style>\n",
       "<table border=\"1\" class=\"dataframe\">\n",
       "  <thead>\n",
       "    <tr style=\"text-align: right;\">\n",
       "      <th></th>\n",
       "      <th>datetime</th>\n",
       "      <th>years</th>\n",
       "      <th>months</th>\n",
       "      <th>days</th>\n",
       "      <th>hours</th>\n",
       "      <th>minutes</th>\n",
       "      <th>seconds</th>\n",
       "      <th>daytime</th>\n",
       "    </tr>\n",
       "    <tr>\n",
       "      <th>user</th>\n",
       "      <th></th>\n",
       "      <th></th>\n",
       "      <th></th>\n",
       "      <th></th>\n",
       "      <th></th>\n",
       "      <th></th>\n",
       "      <th></th>\n",
       "      <th></th>\n",
       "    </tr>\n",
       "  </thead>\n",
       "  <tbody>\n",
       "    <tr>\n",
       "      <th>valentina</th>\n",
       "      <td>2020-05-15 00:00:13.222265</td>\n",
       "      <td>2020</td>\n",
       "      <td>5</td>\n",
       "      <td>15</td>\n",
       "      <td>0</td>\n",
       "      <td>0</td>\n",
       "      <td>13</td>\n",
       "      <td>night</td>\n",
       "    </tr>\n",
       "    <tr>\n",
       "      <th>valentina</th>\n",
       "      <td>2020-05-15 00:01:05.153738</td>\n",
       "      <td>2020</td>\n",
       "      <td>5</td>\n",
       "      <td>15</td>\n",
       "      <td>0</td>\n",
       "      <td>1</td>\n",
       "      <td>5</td>\n",
       "      <td>night</td>\n",
       "    </tr>\n",
       "    <tr>\n",
       "      <th>pavel</th>\n",
       "      <td>2020-05-12 00:01:27.764025</td>\n",
       "      <td>2020</td>\n",
       "      <td>5</td>\n",
       "      <td>12</td>\n",
       "      <td>0</td>\n",
       "      <td>1</td>\n",
       "      <td>27</td>\n",
       "      <td>night</td>\n",
       "    </tr>\n",
       "    <tr>\n",
       "      <th>pavel</th>\n",
       "      <td>2020-05-12 00:01:38.444917</td>\n",
       "      <td>2020</td>\n",
       "      <td>5</td>\n",
       "      <td>12</td>\n",
       "      <td>0</td>\n",
       "      <td>1</td>\n",
       "      <td>38</td>\n",
       "      <td>night</td>\n",
       "    </tr>\n",
       "    <tr>\n",
       "      <th>pavel</th>\n",
       "      <td>2020-05-12 00:01:55.395042</td>\n",
       "      <td>2020</td>\n",
       "      <td>5</td>\n",
       "      <td>12</td>\n",
       "      <td>0</td>\n",
       "      <td>1</td>\n",
       "      <td>55</td>\n",
       "      <td>night</td>\n",
       "    </tr>\n",
       "    <tr>\n",
       "      <th>...</th>\n",
       "      <td>...</td>\n",
       "      <td>...</td>\n",
       "      <td>...</td>\n",
       "      <td>...</td>\n",
       "      <td>...</td>\n",
       "      <td>...</td>\n",
       "      <td>...</td>\n",
       "      <td>...</td>\n",
       "    </tr>\n",
       "    <tr>\n",
       "      <th>artem</th>\n",
       "      <td>2020-05-21 23:49:22.386789</td>\n",
       "      <td>2020</td>\n",
       "      <td>5</td>\n",
       "      <td>21</td>\n",
       "      <td>23</td>\n",
       "      <td>49</td>\n",
       "      <td>22</td>\n",
       "      <td>evening</td>\n",
       "    </tr>\n",
       "    <tr>\n",
       "      <th>anatoliy</th>\n",
       "      <td>2020-05-09 23:53:55.599821</td>\n",
       "      <td>2020</td>\n",
       "      <td>5</td>\n",
       "      <td>9</td>\n",
       "      <td>23</td>\n",
       "      <td>53</td>\n",
       "      <td>55</td>\n",
       "      <td>evening</td>\n",
       "    </tr>\n",
       "    <tr>\n",
       "      <th>pavel</th>\n",
       "      <td>2020-05-09 23:54:54.260791</td>\n",
       "      <td>2020</td>\n",
       "      <td>5</td>\n",
       "      <td>9</td>\n",
       "      <td>23</td>\n",
       "      <td>54</td>\n",
       "      <td>54</td>\n",
       "      <td>evening</td>\n",
       "    </tr>\n",
       "    <tr>\n",
       "      <th>valentina</th>\n",
       "      <td>2020-05-14 23:58:56.754866</td>\n",
       "      <td>2020</td>\n",
       "      <td>5</td>\n",
       "      <td>14</td>\n",
       "      <td>23</td>\n",
       "      <td>58</td>\n",
       "      <td>56</td>\n",
       "      <td>evening</td>\n",
       "    </tr>\n",
       "    <tr>\n",
       "      <th>alexander</th>\n",
       "      <td>2020-05-14 23:59:38.758438</td>\n",
       "      <td>2020</td>\n",
       "      <td>5</td>\n",
       "      <td>14</td>\n",
       "      <td>23</td>\n",
       "      <td>59</td>\n",
       "      <td>38</td>\n",
       "      <td>evening</td>\n",
       "    </tr>\n",
       "  </tbody>\n",
       "</table>\n",
       "<p>1076 rows × 8 columns</p>\n",
       "</div>"
      ],
      "text/plain": [
       "                            datetime  years  months  days  hours  minutes  \\\n",
       "user                                                                        \n",
       "valentina 2020-05-15 00:00:13.222265   2020       5    15      0        0   \n",
       "valentina 2020-05-15 00:01:05.153738   2020       5    15      0        1   \n",
       "pavel     2020-05-12 00:01:27.764025   2020       5    12      0        1   \n",
       "pavel     2020-05-12 00:01:38.444917   2020       5    12      0        1   \n",
       "pavel     2020-05-12 00:01:55.395042   2020       5    12      0        1   \n",
       "...                              ...    ...     ...   ...    ...      ...   \n",
       "artem     2020-05-21 23:49:22.386789   2020       5    21     23       49   \n",
       "anatoliy  2020-05-09 23:53:55.599821   2020       5     9     23       53   \n",
       "pavel     2020-05-09 23:54:54.260791   2020       5     9     23       54   \n",
       "valentina 2020-05-14 23:58:56.754866   2020       5    14     23       58   \n",
       "alexander 2020-05-14 23:59:38.758438   2020       5    14     23       59   \n",
       "\n",
       "           seconds  daytime  \n",
       "user                         \n",
       "valentina       13    night  \n",
       "valentina        5    night  \n",
       "pavel           27    night  \n",
       "pavel           38    night  \n",
       "pavel           55    night  \n",
       "...            ...      ...  \n",
       "artem           22  evening  \n",
       "anatoliy        55  evening  \n",
       "pavel           54  evening  \n",
       "valentina       56  evening  \n",
       "alexander       38  evening  \n",
       "\n",
       "[1076 rows x 8 columns]"
      ]
     },
     "execution_count": 110,
     "metadata": {},
     "output_type": "execute_result"
    }
   ],
   "source": [
    "views = views.sort_values(by=[\"hours\",\"minutes\",\"seconds\"])\n",
    "views"
   ]
  },
  {
   "cell_type": "markdown",
   "metadata": {},
   "source": [
    "## Рассчитываем минимум, максимум и моду"
   ]
  },
  {
   "cell_type": "code",
   "execution_count": 112,
   "metadata": {},
   "outputs": [
    {
     "name": "stdout",
     "output_type": "stream",
     "text": [
      "Max hour at night: 3\n",
      "Min hour in morning: 8\n",
      "Mode hour: 22\n",
      "Mode daytime: evening\n",
      "Visitors at max night hour: konstantin\n",
      "Visitors at min morning hour: alexander\n"
     ]
    }
   ],
   "source": [
    "max_night = views[views.daytime == \"night\"].hours.max()\n",
    "min_morning = views[views.daytime == \"morning\"].hours.min()\n",
    "mode_hour = views['hours'].mode()[0]\n",
    "mode_daytime = views['daytime'].mode()[0]\n",
    "visitors_max = views.loc[views.daytime == 'night'].hours.idxmax()\n",
    "visitors_min = views.loc[views.daytime == 'morning'].hours.idxmin()\n",
    "\n",
    "print(f\"Max hour at night: {max_night}\")\n",
    "print(f\"Min hour in morning: {min_morning}\")\n",
    "print(f\"Mode hour: {mode_hour}\")\n",
    "print(f\"Mode daytime: {mode_daytime}\")\n",
    "print(f\"Visitors at max night hour: {visitors_max}\")\n",
    "print(f\"Visitors at min morning hour: {visitors_min}\")"
   ]
  },
  {
   "cell_type": "markdown",
   "metadata": {},
   "source": [
    "## 3 самых ранних часа утром + пользователи"
   ]
  },
  {
   "cell_type": "code",
   "execution_count": 113,
   "metadata": {},
   "outputs": [
    {
     "name": "stdout",
     "output_type": "stream",
     "text": [
      "user\n",
      "alexander    8\n",
      "alexander    8\n",
      "alexander    9\n",
      "Name: hours, dtype: int32\n"
     ]
    }
   ],
   "source": [
    "print(views[views.daytime == \"morning\"].nsmallest(3, \"hours\").hours)"
   ]
  },
  {
   "cell_type": "markdown",
   "metadata": {},
   "source": [
    "## 3 самых поздних часа + пользователи"
   ]
  },
  {
   "cell_type": "code",
   "execution_count": 114,
   "metadata": {},
   "outputs": [
    {
     "name": "stdout",
     "output_type": "stream",
     "text": [
      "user\n",
      "konstantin    3\n",
      "konstantin    3\n",
      "konstantin    3\n",
      "Name: hours, dtype: int32\n"
     ]
    }
   ],
   "source": [
    "print(views[views.daytime == \"night\"].nlargest(3, \"hours\").hours)"
   ]
  },
  {
   "cell_type": "markdown",
   "metadata": {},
   "source": [
    "## describe() и межквартильный размах"
   ]
  },
  {
   "cell_type": "code",
   "execution_count": 115,
   "metadata": {},
   "outputs": [
    {
     "name": "stdout",
     "output_type": "stream",
     "text": [
      "Interquartile range (IQR): 9.0\n"
     ]
    }
   ],
   "source": [
    "desc = views[\"hours\"].describe()\n",
    "iqr = desc[\"75%\"] - desc[\"25%\"]\n",
    "print(\"Interquartile range (IQR):\", iqr)"
   ]
  }
 ],
 "metadata": {
  "kernelspec": {
   "display_name": "Python 3",
   "language": "python",
   "name": "python3"
  },
  "language_info": {
   "codemirror_mode": {
    "name": "ipython",
    "version": 3
   },
   "file_extension": ".py",
   "mimetype": "text/x-python",
   "name": "python",
   "nbconvert_exporter": "python",
   "pygments_lexer": "ipython3",
   "version": "3.12.0"
  }
 },
 "nbformat": 4,
 "nbformat_minor": 2
}
